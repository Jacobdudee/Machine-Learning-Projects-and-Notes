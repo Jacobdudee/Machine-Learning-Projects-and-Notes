{
 "cells": [
  {
   "cell_type": "markdown",
   "metadata": {},
   "source": [
    "# Unsupervised Learning Notes"
   ]
  },
  {
   "cell_type": "markdown",
   "metadata": {},
   "source": [
    "## Key Terms:\n",
    "\n",
    "- find structure in data without lables: unsupervised\n",
    "- find patterns: clustering\n",
    "- finding single line: dimensionality reduction\n",
    "\n",
    "### K-Means:\n",
    "\n",
    "#### Steps:\n",
    "- <b/>Assign:</b> center points are placed in the middle of the data distribution\n",
    "- <b/>Optimize:</b> minimumize cardinal distances between points\n",
    "    - in this step, the centers assigned in step 1 are moved so the total distance between the assigned points and the placed center is minimized\n",
    "    \n",
    "- Initial poisitioning of centroids is important yet random, can get different results based on where the centroids were placed even if have the same number (ex. 2 centroids)\n",
    "\n",
    "#### Key Parameters\n",
    "- max_iter: the max times the model runs iterations \n",
    "- <b/>n_clusters: how many clusters you think is best for the model</b>\n",
    "- n_init: num of times the model will be run using different seeds. This controls for the varying results when randomly placing center points at beginning\n",
    "\n",
    "#### Overview\n",
    "- can get counter-intuitive clusters based on placement of initial points\n",
    "- \"hill climbing\" algorithm\n",
    "- <b/>local minimum</b>: the seperation line between classes\n",
    "    - get get non-optimal results, so must run algorithm multiple times\n",
    "\n",
    "#### Resources:\n",
    "\n",
    "- https://www.naftaliharris.com/blog/visualizing-k-means-clustering/\n",
    "- http://scikit-learn.org/stable/modules/generated/sklearn.cluster.KMeans.html"
   ]
  },
  {
   "cell_type": "markdown",
   "metadata": {
    "collapsed": true
   },
   "source": [
    "#### Example Code"
   ]
  },
  {
   "cell_type": "code",
   "execution_count": 2,
   "metadata": {
    "collapsed": false
   },
   "outputs": [
    {
     "data": {
      "text/plain": [
       "array([0, 0, 0, 1, 1, 1], dtype=int32)"
      ]
     },
     "execution_count": 2,
     "metadata": {},
     "output_type": "execute_result"
    }
   ],
   "source": [
    "from sklearn.cluster import KMeans\n",
    "import numpy as np\n",
    "\n",
    "X = np.array([[1, 2], [1, 4], [1, 0],[4, 2], [4, 4], [4, 0]])\n",
    "\n",
    "kmeans = KMeans(n_clusters=2, random_state=0).fit(X)\n",
    "\n",
    "kmeans.labels_\n"
   ]
  },
  {
   "cell_type": "code",
   "execution_count": 3,
   "metadata": {
    "collapsed": false
   },
   "outputs": [
    {
     "data": {
      "text/plain": [
       "array([0, 1], dtype=int32)"
      ]
     },
     "execution_count": 3,
     "metadata": {},
     "output_type": "execute_result"
    }
   ],
   "source": [
    "kmeans.predict([[0, 0], [4, 4]])\n"
   ]
  },
  {
   "cell_type": "code",
   "execution_count": 4,
   "metadata": {
    "collapsed": false
   },
   "outputs": [
    {
     "data": {
      "text/plain": [
       "array([[ 1.,  2.],\n",
       "       [ 4.,  2.]])"
      ]
     },
     "execution_count": 4,
     "metadata": {},
     "output_type": "execute_result"
    }
   ],
   "source": [
    "kmeans.cluster_centers_\n"
   ]
  },
  {
   "cell_type": "code",
   "execution_count": null,
   "metadata": {
    "collapsed": true
   },
   "outputs": [],
   "source": []
  }
 ],
 "metadata": {
  "kernelspec": {
   "display_name": "Python 2",
   "language": "python",
   "name": "python2"
  },
  "language_info": {
   "codemirror_mode": {
    "name": "ipython",
    "version": 2
   },
   "file_extension": ".py",
   "mimetype": "text/x-python",
   "name": "python",
   "nbconvert_exporter": "python",
   "pygments_lexer": "ipython2",
   "version": "2.7.13"
  }
 },
 "nbformat": 4,
 "nbformat_minor": 2
}
