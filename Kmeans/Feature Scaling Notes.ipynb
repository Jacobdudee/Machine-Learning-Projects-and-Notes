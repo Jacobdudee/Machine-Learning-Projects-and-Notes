{
 "cells": [
  {
   "cell_type": "markdown",
   "metadata": {},
   "source": [
    "# Feature Scaling\n",
    "\n",
    "Feature scaling is a way to scale variables from [0,1], in order to compare variables of differing scales.\n",
    "\n",
    "#### Benefits:\n",
    "- reliable number of what can expect\n",
    "\n",
    "#### Disadvantages\n",
    "- outliers can mess up rescaling"
   ]
  },
  {
   "cell_type": "markdown",
   "metadata": {},
   "source": [
    "## Formula:"
   ]
  },
  {
   "cell_type": "markdown",
   "metadata": {},
   "source": [
    "x` = (x - xmin) / (xmax - xmin)"
   ]
  },
  {
   "cell_type": "markdown",
   "metadata": {},
   "source": [
    "### Example: Weights"
   ]
  },
  {
   "cell_type": "code",
   "execution_count": 5,
   "metadata": {
    "collapsed": false
   },
   "outputs": [],
   "source": [
    "import numpy as np\n",
    "weights = [115,140,175]\n",
    "x = 140\n",
    "xmin = np.min(weights) #115\n",
    "xmax = np.max(weights) # 175"
   ]
  },
  {
   "cell_type": "code",
   "execution_count": 6,
   "metadata": {
    "collapsed": false
   },
   "outputs": [
    {
     "data": {
      "text/plain": [
       "115"
      ]
     },
     "execution_count": 6,
     "metadata": {},
     "output_type": "execute_result"
    }
   ],
   "source": [
    "xmin"
   ]
  },
  {
   "cell_type": "code",
   "execution_count": 7,
   "metadata": {
    "collapsed": false
   },
   "outputs": [
    {
     "data": {
      "text/plain": [
       "175"
      ]
     },
     "execution_count": 7,
     "metadata": {},
     "output_type": "execute_result"
    }
   ],
   "source": [
    "xmax"
   ]
  },
  {
   "cell_type": "markdown",
   "metadata": {},
   "source": [
    "### Programatic form"
   ]
  },
  {
   "cell_type": "code",
   "execution_count": 13,
   "metadata": {
    "collapsed": true
   },
   "outputs": [],
   "source": [
    "def featureScaling(arr):\n",
    "    from numpy import max\n",
    "    from numpy import min\n",
    "    xmin = min(arr) # get min\n",
    "    xmax = max(arr) # get max\n",
    "    newArr = []\n",
    "    for x in arr:\n",
    "        newVal = ((x - xmin)/(xmax-float(xmin)))\n",
    "        newArr.append(newVal)\n",
    "    return newArr\n",
    "\n",
    "\n",
    "def scaleVar(feature,val):\n",
    "    from numpy import max\n",
    "    from numpy import min\n",
    "    xmin = np.min(feature) #115\n",
    "    xmax = np.max(feature) # 175\n",
    "    \n",
    "    newVal = ((val - xmin)/(xmax-float(xmin)))\n",
    "    return round(newVal,3)"
   ]
  },
  {
   "cell_type": "code",
   "execution_count": 14,
   "metadata": {
    "collapsed": false
   },
   "outputs": [
    {
     "data": {
      "text/plain": [
       "0.417"
      ]
     },
     "execution_count": 14,
     "metadata": {},
     "output_type": "execute_result"
    }
   ],
   "source": [
    "scaleVar(weights,140)"
   ]
  },
  {
   "cell_type": "markdown",
   "metadata": {},
   "source": [
    "### Sklearn MinMaxScaler\n",
    "\n",
    "<b/>NEED FLOAT NUMPY IMPUTS </b>"
   ]
  },
  {
   "cell_type": "code",
   "execution_count": 19,
   "metadata": {
    "collapsed": false
   },
   "outputs": [
    {
     "name": "stdout",
     "output_type": "stream",
     "text": [
      "MinMaxScaler(copy=True, feature_range=(0, 1))\n"
     ]
    }
   ],
   "source": [
    "from sklearn.preprocessing import MinMaxScaler\n",
    "\n",
    "data = [[-1, 2], [-0.5, 6], [0, 10], [1, 18]]\n",
    "\n",
    "#initialize scaler\n",
    "scaler = MinMaxScaler()\n",
    "\n",
    "#fit scaler to data\n",
    "print(scaler.fit(data)) # can do this or scaler.fit_transform(data) \n"
   ]
  },
  {
   "cell_type": "code",
   "execution_count": 20,
   "metadata": {
    "collapsed": false
   },
   "outputs": [
    {
     "name": "stdout",
     "output_type": "stream",
     "text": [
      "[  1.  18.]\n"
     ]
    }
   ],
   "source": [
    "# get max\n",
    "print(scaler.data_max_)"
   ]
  },
  {
   "cell_type": "code",
   "execution_count": 21,
   "metadata": {
    "collapsed": false
   },
   "outputs": [
    {
     "name": "stdout",
     "output_type": "stream",
     "text": [
      "[[ 0.    0.  ]\n",
      " [ 0.25  0.25]\n",
      " [ 0.5   0.5 ]\n",
      " [ 1.    1.  ]]\n"
     ]
    }
   ],
   "source": [
    "#get transformed data\n",
    "print(scaler.transform(data))"
   ]
  },
  {
   "cell_type": "code",
   "execution_count": 22,
   "metadata": {
    "collapsed": false
   },
   "outputs": [
    {
     "name": "stdout",
     "output_type": "stream",
     "text": [
      "[[ 1.5  0. ]]\n"
     ]
    }
   ],
   "source": [
    "#scale new data\n",
    "print(scaler.transform([[2, 2]]))\n"
   ]
  },
  {
   "cell_type": "markdown",
   "metadata": {},
   "source": [
    "#### Which algorithms are affected by rescaling?\n",
    "Yes:\n",
    "- SVM w/ rbf kernel\n",
    "- Kmeans\n",
    "\n",
    "Why?\n",
    "- rescaling messes with the distance caluclations crucial to the above algorithms, so rescaling doesn't preserve the distance relationships before  \n",
    "\n",
    "No:\n",
    "- Linear Regression\n",
    "- Decision Trees\n",
    "\n",
    "Why?\n",
    "- Distance for decision trees scales with rescaling\n",
    "- in LR, coefficient of feature A does not affect coef of feature B, output will be the same as before"
   ]
  },
  {
   "cell_type": "code",
   "execution_count": null,
   "metadata": {
    "collapsed": true
   },
   "outputs": [],
   "source": []
  }
 ],
 "metadata": {
  "kernelspec": {
   "display_name": "Python 2",
   "language": "python",
   "name": "python2"
  },
  "language_info": {
   "codemirror_mode": {
    "name": "ipython",
    "version": 2
   },
   "file_extension": ".py",
   "mimetype": "text/x-python",
   "name": "python",
   "nbconvert_exporter": "python",
   "pygments_lexer": "ipython2",
   "version": "2.7.13"
  }
 },
 "nbformat": 4,
 "nbformat_minor": 2
}
