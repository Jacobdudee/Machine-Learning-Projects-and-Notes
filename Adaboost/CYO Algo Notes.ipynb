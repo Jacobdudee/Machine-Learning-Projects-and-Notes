{
 "cells": [
  {
   "cell_type": "markdown",
   "metadata": {},
   "source": [
    "# Choose your own Algorithm- Process Notes"
   ]
  },
  {
   "cell_type": "markdown",
   "metadata": {},
   "source": [
    "### I have 3 choices:\n",
    "\n",
    "- K Nearest Neighbors\n",
    "\n",
    "- Random Forest\n",
    "\n",
    "- Adaboost\n",
    "    \n",
    "Options 2 and 3 are Ensembling methods, while the 1st is a classic."
   ]
  },
  {
   "cell_type": "markdown",
   "metadata": {},
   "source": [
    "### Process:\n",
    "\n",
    "- Do research\n",
    "\n",
    "- find sklearn documentation\n",
    "\n",
    "- Deploy it\n",
    "\n",
    "- Make predictions with it\n",
    "\n",
    "- Evaluate it\n",
    "\n",
    "\n",
    "#### Key Terms:\n",
    "\n",
    "- bagging: taking weak learners and getting aggregated forecast\n",
    "\n",
    "### Research\n",
    "\n",
    "- Random Forest:\n",
    "    - Supervised\n",
    "    - Used for regression/classification\n",
    "    - Essentially a large amount of decision trees\n",
    "    - Take subset of features, then train constricted decision trees (so each is shallow) at limited scope, and do this many times\n",
    "    - Now have pool, or forest, of trees that then use to average (linear) or vote on outcome (classification)\n",
    "    - Need feature importance of some sort to interpret algorithm, otherwise not as intuitive as decision trees\n",
    "    \n",
    "  \n",
    "- <b/> Adaboost <b/>:\n",
    "    - Supervised\n",
    "    - used for classification and regression\n",
    "    - Series of \"learners\" that after creation, the wrong predictions were weighted higher\n",
    "    - So wrong decisions were adjusted and corrected for\n",
    "    - then ask the weak learns for aggregated prediction\n",
    "    \n",
    "\n",
    "- K Nearest Neighbors\n",
    "    - used for classification, \"clustering\" or regression\n",
    "    - Unsupervised, non-parametric\n",
    "    - find k, (the number of clusters), and the # of data points similar to previous\n",
    "    - finds some similarity metric that compares unknown points to those known, based on k number of clusters\n",
    "    - usually uses mean from points\n",
    "    - certain points can be weighted\n",
    "    - useful for high-dimensional space"
   ]
  },
  {
   "cell_type": "markdown",
   "metadata": {},
   "source": [
    "## Adaboost"
   ]
  },
  {
   "cell_type": "code",
   "execution_count": 2,
   "metadata": {
    "collapsed": false
   },
   "outputs": [
    {
     "data": {
      "text/plain": [
       "0.95996732026143794"
      ]
     },
     "execution_count": 2,
     "metadata": {},
     "output_type": "execute_result"
    }
   ],
   "source": [
    "from sklearn.model_selection import cross_val_score\n",
    "from sklearn.datasets import load_iris\n",
    "from sklearn.ensemble import AdaBoostClassifier\n",
    "\n",
    "iris = load_iris()\n",
    "clf = AdaBoostClassifier(n_estimators=100)\n",
    "scores = cross_val_score(clf, iris.data, iris.target)\n",
    "scores.mean()                             "
   ]
  },
  {
   "cell_type": "markdown",
   "metadata": {},
   "source": [
    "#### Key Parameters:\n",
    "\n",
    "- n_estimators: The number of weak learners\n",
    "\n",
    "- learning_rate: controls the contribution of the weak learners in the final combination. By default, weak learners are decision stumps. \n",
    "\n",
    "- base_estimator parameter: specifies different weak learners. \n",
    "\n",
    "- max_depth: depth \n",
    "\n",
    "- min_samples_leaf: min required number of samples (for decision trees)"
   ]
  },
  {
   "cell_type": "markdown",
   "metadata": {},
   "source": [
    "#### Resources\n",
    "\n",
    "https://medium.com/machine-learning-101/https-medium-com-savanpatel-chapter-6-adaboost-classifier-b945f330af06\n",
    "\n",
    "https://podtail.com/podcast/data-skeptic/mini-k-nearest-neighbors/"
   ]
  },
  {
   "cell_type": "code",
   "execution_count": null,
   "metadata": {
    "collapsed": true
   },
   "outputs": [],
   "source": []
  }
 ],
 "metadata": {
  "kernelspec": {
   "display_name": "Python 2",
   "language": "python",
   "name": "python2"
  },
  "language_info": {
   "codemirror_mode": {
    "name": "ipython",
    "version": 2
   },
   "file_extension": ".py",
   "mimetype": "text/x-python",
   "name": "python",
   "nbconvert_exporter": "python",
   "pygments_lexer": "ipython2",
   "version": "2.7.13"
  }
 },
 "nbformat": 4,
 "nbformat_minor": 2
}
